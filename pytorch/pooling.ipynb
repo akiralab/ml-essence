{
 "cells": [
  {
   "cell_type": "markdown",
   "metadata": {},
   "source": [
    "# Pooling \n",
    "### なぜやる必要があるのか\n",
    "- 主にCNNにおいて次元を削減のため\n",
    "\n",
    "### CNNの層を重ねるのとの違いは何なのか\n",
    "- 調査中\n",
    "\n",
    "### どんな方法があるのか\n",
    "- Global Average Pooling\n",
    "- Global Max Pooling"
   ]
  },
  {
   "cell_type": "code",
   "execution_count": 28,
   "metadata": {},
   "outputs": [],
   "source": [
    "import torch"
   ]
  },
  {
   "cell_type": "code",
   "execution_count": 35,
   "metadata": {},
   "outputs": [
    {
     "data": {
      "text/plain": [
       "tensor([[[0.2065, 0.0621, 0.4763, 0.9794],\n",
       "         [0.4384, 0.2364, 0.6401, 0.9689],\n",
       "         [0.6370, 0.9824, 0.2993, 0.5632],\n",
       "         [0.6052, 0.1257, 0.2201, 0.5400]]])"
      ]
     },
     "execution_count": 35,
     "metadata": {},
     "output_type": "execute_result"
    }
   ],
   "source": [
    "x = torch.rand(1, 4, 4, dtype=torch.float32)\n",
    "x"
   ]
  },
  {
   "cell_type": "code",
   "execution_count": 34,
   "metadata": {},
   "outputs": [
    {
     "data": {
      "text/plain": [
       "tensor([[[0.5851, 0.8763],\n",
       "         [0.7630, 0.4385]]])"
      ]
     },
     "execution_count": 34,
     "metadata": {},
     "output_type": "execute_result"
    }
   ],
   "source": [
    "import torch.nn.functional as F\n",
    "_x = F.max_pool2d(x, kernel_size=2)\n",
    "_x"
   ]
  },
  {
   "cell_type": "code",
   "execution_count": 36,
   "metadata": {},
   "outputs": [
    {
     "data": {
      "text/plain": [
       "tensor([[[0.2358, 0.7662],\n",
       "         [0.5876, 0.4056]]])"
      ]
     },
     "execution_count": 36,
     "metadata": {},
     "output_type": "execute_result"
    }
   ],
   "source": [
    "_x = F.avg_pool2d(x, kernel_size=2)\n",
    "_x"
   ]
  },
  {
   "cell_type": "code",
   "execution_count": null,
   "metadata": {},
   "outputs": [],
   "source": []
  }
 ],
 "metadata": {
  "kernelspec": {
   "display_name": "Python 3",
   "language": "python",
   "name": "python3"
  },
  "language_info": {
   "codemirror_mode": {
    "name": "ipython",
    "version": 3
   },
   "file_extension": ".py",
   "mimetype": "text/x-python",
   "name": "python",
   "nbconvert_exporter": "python",
   "pygments_lexer": "ipython3",
   "version": "3.7.6"
  }
 },
 "nbformat": 4,
 "nbformat_minor": 4
}
